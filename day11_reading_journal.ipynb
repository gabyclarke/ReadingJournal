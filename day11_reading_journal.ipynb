{
 "cells": [
  {
   "cell_type": "markdown",
   "metadata": {},
   "source": [
    "# Day 11 Reading Journal\n",
    "\n",
    "This journal includes several required exercises, but it is meant to encourage active reading more generally.  You should use the journal to take detailed notes, catalog questions, and explore the content from Think Python deeply.\n",
    "\n",
    "Reading: Review Think Python Chapters 15-17\n",
    "\n",
    "**Due: Monday, February 29 at 12 noon**\n",
    "\n"
   ]
  },
  {
   "cell_type": "markdown",
   "metadata": {},
   "source": [
    "## [Chapter 15](http://www.greenteapress.com/thinkpython/html/thinkpython016.html), [Chapter 16](http://www.greenteapress.com/thinkpython/html/thinkpython017.html), [Chapter 17](http://www.greenteapress.com/thinkpython/html/thinkpython018.html)\n",
    "\n",
    "\n",
    "By the end of chapter 17, we have all the tools we need to create our own user-defined types known as classes. In this reading journal, we're asking you to review and solidify your understanding of this material so we can build on it for the rest of the course. \n",
    "\n",
    "If you didn't get a chance to fully complete the Day 10 reading journal, you may want to do so now."
   ]
  },
  {
   "cell_type": "markdown",
   "metadata": {
    "problem": "Terminology"
   },
   "source": [
    "### Terminology\n",
    "\n",
    "You should be familiar with the following list of terms and concepts. If any of them are unclear to you, re-read, ask, write a definition in your own words, and try an example if appropriate.\n",
    "\n",
    " - class\n",
    " - object\n",
    " - instance\n",
    " - attribute\n",
    " - method\n",
    " - shallow vs deep copying\n",
    " - pure functions vs modifiers\n",
    " - initializing object instances\n",
    " "
   ]
  },
  {
   "cell_type": "markdown",
   "metadata": {},
   "source": [
    "shallow copying: copies an object and its references, but not embedded objects\n",
    "deep copying: copies an object and all embedded objects\n",
    "pure function: doesn't modify objects passed to it\n",
    "modifier: modifies its parameters"
   ]
  },
  {
   "cell_type": "markdown",
   "metadata": {
    "is_question": true,
    "problem": "Exercise 1"
   },
   "source": [
    "### Exercise\n",
    "\n",
    "We're going to take the first steps toward writing a calendar application. To keep things simple, we'll restrict ourselves to a single day for now. Write an `Event` class with the following attributes:\n",
    "\n",
    " - `name`  : Title for the `Event`\n",
    " - `start` : `Time` object representing the start time for the `Event`\n",
    " - `end`   : `Time` object representing the end time for the `Event`\n",
    "\n",
    "You can also augment your `Event` class with additional attributes, such as location and attendees.\n",
    "\n",
    "Write `__init__` and `__str__` methods for your `Event` class."
   ]
  },
  {
   "cell_type": "code",
   "execution_count": 1,
   "metadata": {
    "collapsed": false,
    "solution": "Exercise 1"
   },
   "outputs": [
    {
     "name": "stdout",
     "output_type": "stream",
     "text": [
      "Dinner, 00:00:00 to 00:00:00\n",
      "Lunch, 11:45:00 to 12:00:00\n"
     ]
    }
   ],
   "source": [
    "class Time(object):\n",
    "    def __init__(self, hour = 0, minute = 0, second = 0):\n",
    "        self.hour = hour\n",
    "        self.minute = minute\n",
    "        self.second = second\n",
    "    def __str__(self):\n",
    "        return '{:02}:{:02}:{:02}'.format(self.hour, self.minute, self.second)\n",
    "\n",
    "class Event(object):\n",
    "    def __init__(self, name, start = Time(), end = Time()):\n",
    "        self.name = name\n",
    "        self.start = start\n",
    "        self.end = end\n",
    "\n",
    "    def __str__(self):\n",
    "        return '{}, {} to {}'.format(self.name, self.start, self.end)\n",
    "\n",
    "\n",
    "e1 = Event('Dinner')\n",
    "print e1\n",
    "\n",
    "e2 = Event('Lunch', Time(11,45), Time(12))\n",
    "print e2           "
   ]
  },
  {
   "cell_type": "markdown",
   "metadata": {
    "is_question": true,
    "problem": "Exercise 2"
   },
   "source": [
    "### Exercise\n",
    "\n",
    "Write a `duration` method that returns the duration of the `Event` in minutes."
   ]
  },
  {
   "cell_type": "code",
   "execution_count": 2,
   "metadata": {
    "collapsed": false
   },
   "outputs": [
    {
     "ename": "NameError",
     "evalue": "global name 'timeToInt' is not defined",
     "output_type": "error",
     "traceback": [
      "\u001b[0;31m---------------------------------------------------------------------------\u001b[0m",
      "\u001b[0;31mNameError\u001b[0m                                 Traceback (most recent call last)",
      "\u001b[0;32m<ipython-input-2-5830b55bd6da>\u001b[0m in \u001b[0;36m<module>\u001b[0;34m()\u001b[0m\n\u001b[1;32m     34\u001b[0m \u001b[0;34m\u001b[0m\u001b[0m\n\u001b[1;32m     35\u001b[0m \u001b[0me\u001b[0m \u001b[0;34m=\u001b[0m \u001b[0mEvent\u001b[0m\u001b[0;34m(\u001b[0m\u001b[0;34m'Dinner'\u001b[0m\u001b[0;34m,\u001b[0m \u001b[0mTime\u001b[0m\u001b[0;34m(\u001b[0m\u001b[0;36m6\u001b[0m\u001b[0;34m,\u001b[0m\u001b[0;36m30\u001b[0m\u001b[0;34m)\u001b[0m\u001b[0;34m,\u001b[0m \u001b[0mTime\u001b[0m\u001b[0;34m(\u001b[0m\u001b[0;36m7\u001b[0m\u001b[0;34m,\u001b[0m\u001b[0;36m15\u001b[0m\u001b[0;34m)\u001b[0m\u001b[0;34m)\u001b[0m\u001b[0;34m\u001b[0m\u001b[0m\n\u001b[0;32m---> 36\u001b[0;31m \u001b[0;32mprint\u001b[0m \u001b[0me\u001b[0m\u001b[0;34m.\u001b[0m\u001b[0mduration\u001b[0m\u001b[0;34m(\u001b[0m\u001b[0;34m)\u001b[0m\u001b[0;34m\u001b[0m\u001b[0m\n\u001b[0m",
      "\u001b[0;32m<ipython-input-2-5830b55bd6da>\u001b[0m in \u001b[0;36mduration\u001b[0;34m(self)\u001b[0m\n\u001b[1;32m     30\u001b[0m     \u001b[0;32mdef\u001b[0m \u001b[0mduration\u001b[0m\u001b[0;34m(\u001b[0m\u001b[0mself\u001b[0m\u001b[0;34m)\u001b[0m\u001b[0;34m:\u001b[0m\u001b[0;34m\u001b[0m\u001b[0m\n\u001b[1;32m     31\u001b[0m         \u001b[0;34m\"\"\" duration of an event \"\"\"\u001b[0m\u001b[0;34m\u001b[0m\u001b[0m\n\u001b[0;32m---> 32\u001b[0;31m         \u001b[0mdifference\u001b[0m \u001b[0;34m=\u001b[0m \u001b[0mtimeToInt\u001b[0m\u001b[0;34m(\u001b[0m\u001b[0mself\u001b[0m\u001b[0;34m.\u001b[0m\u001b[0mend\u001b[0m\u001b[0;34m)\u001b[0m \u001b[0;34m-\u001b[0m \u001b[0mtimeToInt\u001b[0m\u001b[0;34m(\u001b[0m\u001b[0mself\u001b[0m\u001b[0;34m.\u001b[0m\u001b[0mstart\u001b[0m\u001b[0;34m)\u001b[0m\u001b[0;34m\u001b[0m\u001b[0m\n\u001b[0m\u001b[1;32m     33\u001b[0m         \u001b[0;32mreturn\u001b[0m \u001b[0mintToTime\u001b[0m\u001b[0;34m(\u001b[0m\u001b[0mdifference\u001b[0m\u001b[0;34m)\u001b[0m\u001b[0;34m\u001b[0m\u001b[0m\n\u001b[1;32m     34\u001b[0m \u001b[0;34m\u001b[0m\u001b[0m\n",
      "\u001b[0;31mNameError\u001b[0m: global name 'timeToInt' is not defined"
     ]
    }
   ],
   "source": [
    "class Time(object):\n",
    "    def __init__(self, hour = 0, minute = 0, second = 0):\n",
    "        self.hour = hour\n",
    "        self.minute = minute\n",
    "        self.second = second\n",
    "    \n",
    "    def __str__(self):\n",
    "        return '{:02}:{:02}:{:02}'.format(self.hour, self.minute, self.second)\n",
    "\n",
    "    def timeToInt(time):\n",
    "        minutes = time.hour*60 + time.minute\n",
    "        seconds = minutes*60 + time.second\n",
    "        return seconds\n",
    "\n",
    "    def intToTime(seconds):\n",
    "        time = Time()\n",
    "        minutes, time.second = divmod(seconds, 60)\n",
    "        time.hour, time.minute = divmod(minutes, 60)\n",
    "        return time\n",
    "    \n",
    "class Event(object):\n",
    "    def __init__(self, name, start = Time(), end = Time()):\n",
    "        self.name = name\n",
    "        self.start = start\n",
    "        self.end = end\n",
    "\n",
    "    def __str__(self):\n",
    "        return '{}, {} to {}'.format(self.name, self.start, self.end)\n",
    "    \n",
    "    def duration(self):\n",
    "        \"\"\" duration of an event \"\"\"\n",
    "        difference = timeToInt(self.end) - timeToInt(self.start)\n",
    "        return intToTime(difference)\n",
    "\n",
    "e = Event('Dinner', Time(6,30), Time(7,15))\n",
    "print e.duration()"
   ]
  },
  {
   "cell_type": "code",
   "execution_count": null,
   "metadata": {
    "collapsed": false,
    "solution": "Exercise 2"
   },
   "outputs": [],
   "source": [
    "# class Time(object):\n",
    "#     def __init__(self, hour = 0, minute = 0, second = 0):\n",
    "#         self.hour = hour\n",
    "#         self.minute = minute\n",
    "#         self.second = second\n",
    "    \n",
    "#     def __str__(self):\n",
    "#         return '{:02}:{:02}:{:02}'.format(self.hour, self.minute, self.second)\n",
    "\n",
    "# def timeToInt(time):\n",
    "#     minutes = time.hour*60 + time.minute\n",
    "#     seconds = minutes*60 + time.second\n",
    "#     return seconds\n",
    "\n",
    "# def intToTime(seconds):\n",
    "#     time = Time()\n",
    "#     minutes, time.second = divmod(seconds, 60)\n",
    "#     time.hour, time.minute = divmod(minutes, 60)\n",
    "#     return time\n",
    "    \n",
    "# class Event(object):\n",
    "#     def __init__(self, name, start = Time(), end = Time()):\n",
    "#         self.name = name\n",
    "#         self.start = start\n",
    "#         self.end = end\n",
    "\n",
    "#     def __str__(self):\n",
    "#         return '{}, {} to {}'.format(self.name, self.start, self.end)\n",
    "    \n",
    "#     def duration(self):\n",
    "#         \"\"\" duration of an event \"\"\"\n",
    "#         difference = timeToInt(self.end) - timeToInt(self.start)\n",
    "#         return intToTime(difference)\n",
    "\n",
    "# e = Event('Dinner', Time(6,30), Time(7,15))\n",
    "# print e.duration()"
   ]
  },
  {
   "cell_type": "markdown",
   "metadata": {
    "is_question": true,
    "problem": "Exercise 3"
   },
   "source": [
    "### Exercise\n",
    "\n",
    "Write an `Agenda` class that contains several `Event`s for the day.\n",
    "\n",
    "**Quick check: ** How should you store `Event`s within your `Agenda` class?\n",
    "\n",
    "Your `Agenda` class should include a `print_agenda` method that prints out your schedule for the day, in order.\n",
    "\n",
    "**Optional:** Include a `is_feasible` method that returns `True` if your schedule has no time conflicts. You may want to write additional helper methods for the `Event` class to make this easier."
   ]
  },
  {
   "cell_type": "code",
   "execution_count": null,
   "metadata": {
    "collapsed": false,
    "solution": "Exercise 3"
   },
   "outputs": [],
   "source": [
    "class Time(object):\n",
    "    def __init__(self, hour = 0, minute = 0, second = 0):\n",
    "        self.hour = hour\n",
    "        self.minute = minute\n",
    "        self.second = second\n",
    "    \n",
    "    def __str__(self):\n",
    "        return '{:02}:{:02}:{:02}'.format(self.hour, self.minute, self.second)\n",
    "\n",
    "    def timeToInt(time):\n",
    "        minutes = time.hour*60 + time.minute\n",
    "        seconds = minutes*60 + time.second\n",
    "        return seconds\n",
    "\n",
    "    def intToTime(seconds):\n",
    "        time = Time()\n",
    "        minutes, time.second = divmod(seconds, 60)\n",
    "        time.hour, time.minute = divmod(minutes, 60)\n",
    "        return time\n",
    "\n",
    "class Event(object):\n",
    "    def __init__(self, name, start = Time(), end = Time()):\n",
    "        self.name = name\n",
    "        self.start = start\n",
    "        self.end = end\n",
    "\n",
    "    def __str__(self):\n",
    "        return '{}, {} to {}'.format(self.name, self.start, self.end)\n",
    "    \n",
    "    def duration(self):\n",
    "        \"\"\" duration of an event \"\"\"\n",
    "        difference = timeToInt(self.end) - timeToInt(self.start)\n",
    "        return intToTime(difference)\n",
    "\n",
    "class Agenda(object):\n",
    "    def __init__(self, events = None):\n",
    "        if events == None:\n",
    "            events = []\n",
    "        self.events = events\n",
    "    \n",
    "#     def __str__(self):\n",
    "#         return 'Agenda: {}'.format([event.__str__ for event in self.events])\n",
    "    \n",
    "#     def __str__(self):\n",
    "#         t = [ object.__str__(self) + ' for today:' ]\n",
    "#         for event in self.events:\n",
    "#             s = '    ' + object.__str__(event)\n",
    "#             t.append(s)\n",
    "#         return '\\n'.join(t)\n",
    "    \n",
    "    def addEvent(self, event):\n",
    "        \"\"\" add an event to the agenda \"\"\"\n",
    "        self.events.append(event)\n",
    "    \n",
    "    def printAgenda(self):\n",
    "        content = [object.__str__(self) + ':']\n",
    "#         self.events.sort() ### HOW DO I SORT THESE?\n",
    "        for event in self.events:\n",
    "            eventLine = '    ' + event.__str__()\n",
    "            content.append(eventLine)\n",
    "        return '\\n'.join(content)\n",
    "        \n",
    "\n",
    "a = Agenda()\n",
    "dinner = Event('Dinner', Time(6,30), Time(7,15))\n",
    "lunch = Event('Lunch', Time(1), Time(1,45))\n",
    "dessert = Event('Dessert', Time(7,15), Time(11))\n",
    "a.addEvent(dinner)\n",
    "a.addEvent(lunch)\n",
    "a.addEvent(dessert)\n",
    "print a.printAgenda()"
   ]
  },
  {
   "cell_type": "markdown",
   "metadata": {
    "is_question": true,
    "problem": "Exercise 4"
   },
   "source": [
    "### Going Beyond (optional)\n",
    "\n",
    "Some ideas for taking your application further:\n",
    " - Add people and/or places to the mix to create a scheduling assistant\n",
    " - Extend support for day-of-week or full date. A word of warning: dealing with dates and times in real applications is difficult due to the huge number of special cases (Perfect example: this reading journal is due on Leap Day). Consider using something like the Python [datetime](https://docs.python.org/2/library/datetime.html) module.\n",
    " - Use pickle or some other persistence strategy to save and load your `Agenda`."
   ]
  },
  {
   "cell_type": "code",
   "execution_count": null,
   "metadata": {
    "collapsed": true,
    "solution": "Exercise 4"
   },
   "outputs": [],
   "source": []
  },
  {
   "cell_type": "markdown",
   "metadata": {
    "is_poll": true,
    "is_question": true,
    "problem": "Time spent"
   },
   "source": [
    "## Quick poll\n",
    "About how long did you spend working on this Reading Journal?"
   ]
  },
  {
   "cell_type": "markdown",
   "metadata": {
    "poll_response": true,
    "solution": "Time spent"
   },
   "source": [
    " "
   ]
  },
  {
   "cell_type": "markdown",
   "metadata": {
    "is_question": true,
    "problem": "Feedback"
   },
   "source": [
    "## Reading Journal feedback\n",
    "\n",
    "Have any comments on this Reading Journal? Feel free to leave them below and we'll read them when you submit your journal entry. This could include suggestions to improve the exercises, topics you'd like to see covered in class next time, or other feedback.\n",
    "\n",
    "If you have Python questions or run into problems while completing the reading, you should post them to Piazza instead so you can get a quick response before your journal is submitted."
   ]
  },
  {
   "cell_type": "markdown",
   "metadata": {
    "feedback_response": true,
    "solution": "Feedback"
   },
   "source": [
    " "
   ]
  }
 ],
 "metadata": {
  "celltoolbar": "Edit Metadata",
  "kernelspec": {
   "display_name": "Python 2",
   "language": "python",
   "name": "python2"
  },
  "language_info": {
   "codemirror_mode": {
    "name": "ipython",
    "version": 2
   },
   "file_extension": ".py",
   "mimetype": "text/x-python",
   "name": "python",
   "nbconvert_exporter": "python",
   "pygments_lexer": "ipython2",
   "version": "2.7.11"
  }
 },
 "nbformat": 4,
 "nbformat_minor": 0
}
