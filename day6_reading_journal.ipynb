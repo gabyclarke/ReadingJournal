{
 "cells": [
  {
   "cell_type": "markdown",
   "metadata": {},
   "source": [
    "# Day 6 Reading Journal\n",
    "\n",
    "This journal includes several required exercises, but it is meant to encourage active reading more generally.  You should use the journal to take detailed notes, catalog questions, and explore the content from Think Python deeply.\n",
    "\n",
    "Reading: Think Python Chapter 5.8-5.14, 6.5-6.11\n",
    "\n",
    "**Due: Thursday, February 11 at 12 noon**\n",
    "\n"
   ]
  },
  {
   "cell_type": "markdown",
   "metadata": {},
   "source": [
    "## [Chapter 5.8 - 5.14](http://www.greenteapress.com/thinkpython/html/thinkpython006.html)\n",
    "\n",
    "[Python Tutor](http://pythontutor.com/) can be helpful for visualizing stack diagrams, including for recursive execution.\n",
    "\n",
    "Chapter 5 leads into Chapter 6, and all the required exercises for this reading are in the Chapter 6 section.\n",
    "\n"
   ]
  },
  {
   "cell_type": "markdown",
   "metadata": {},
   "source": [
    "## [Chapter 6.5 - 6.11](http://www.greenteapress.com/thinkpython/html/thinkpython007.html)"
   ]
  },
  {
   "cell_type": "markdown",
   "metadata": {
    "is_question": true,
    "problem": "Exercise 6.4"
   },
   "source": [
    "### Exercise 4  \n",
    "\n",
    "Draw a stack diagram for the following program. What does the program print? \n",
    "\n",
    "You can do this on paper, using [Python Tutor](http://pythontutor.com/), or with [Lumpy](http://www.greenteapress.com/thinkpython/swampy/) as used in [Allen's solution](http://thinkpython.com/code/stack_diagram.py)."
   ]
  },
  {
   "cell_type": "code",
   "execution_count": null,
   "metadata": {
    "collapsed": false,
    "solution": "Exercise 6.4"
   },
   "outputs": [],
   "source": [
    "def b(z):\n",
    "    prod = a(z, z)\n",
    "    print z, prod\n",
    "    return prod\n",
    "\n",
    "def a(x, y):\n",
    "    x = x + 1\n",
    "    return x * y\n",
    "\n",
    "def c(x, y, z):\n",
    "    total = x + y + z\n",
    "    square = b(total)**2\n",
    "    return square\n",
    "\n",
    "x = 1\n",
    "y = x + 1\n",
    "print c(x, y+3, x+y)"
   ]
  },
  {
   "cell_type": "markdown",
   "metadata": {
    "is_question": true,
    "problem": "Exercise 6.6"
   },
   "source": [
    "### Exercise 6  \n",
    "\n",
    "A palindrome is a word that is spelled the same backward and forward, like “noon” and “redivider”. Recursively, a word is a palindrome if the first and last letters are the same and the middle is a palindrome.\n",
    "\n",
    "You can use the `first`, `last`, and `middle` helper functions defined in Think Python, or do the string slices inside your function directly. Be sure to think about your base cases.\n",
    "    \n",
    "Write a function called `is_palindrome` that takes a string argument and returns `True` if it is a palindrome and `False` otherwise. Remember that you can use the built-in function `len` to check the length of a string.\n",
    "\n",
    "Write some unit tests for your function (optionally using doctest) to show that it works as intended."
   ]
  },
  {
   "cell_type": "code",
   "execution_count": 19,
   "metadata": {
    "collapsed": false,
    "solution": "Exercise 6.6"
   },
   "outputs": [
    {
     "data": {
      "text/plain": [
       "TestResults(failed=0, attempted=13)"
      ]
     },
     "execution_count": 19,
     "metadata": {},
     "output_type": "execute_result"
    }
   ],
   "source": [
    "def isPalindrome(words):\n",
    "    \"\"\"\n",
    "    Takes a string and returns True if that string is a palindrome.\n",
    "    \n",
    "    >>> isPalindrome(\"kayak\")\n",
    "    True\n",
    "    >>> isPalindrome(\"live on time, emit no evil\")\n",
    "    True\n",
    "    >>> isPalindrome(\"hello\")\n",
    "    False\n",
    "    \"\"\"\n",
    "    punctuation = [' ','.',',','\"',\"'\",'!','?','-','—','+','=','(',')']\n",
    "    for char in punctuation:\n",
    "          words = words.replace(str(char), '')\n",
    "    words = words.lower()\n",
    "    return checkEnds(words)\n",
    "    \n",
    "    \n",
    "def checkEnds(x):\n",
    "    \"\"\"\n",
    "    >>> checkEnds(\"kayak\")\n",
    "    True\n",
    "    >>> checkEnds(\"hello\")\n",
    "    False\n",
    "    >>> checkEnds(\"a\")\n",
    "    True\n",
    "    \"\"\"\n",
    "    if len(x) <= 1:\n",
    "        return True\n",
    "    if x[0] == x[-1]:\n",
    "        if len(x) > 2:\n",
    "            if checkEnds(x[1:-1]):\n",
    "                return True\n",
    "        elif len(x) == 2:\n",
    "            return True\n",
    "    else:\n",
    "        return False\n",
    "\n",
    "    \n",
    "def isPalindrome2(words):\n",
    "    \"\"\"\n",
    "    Takes a string and returns True if that string is a palindrome,\n",
    "    but in a WAY more efficient way.\n",
    "    \n",
    "    >>> isPalindrome2(\"kayak\")\n",
    "    True\n",
    "    >>> isPalindrome2(\"live on time, emit no evil\")\n",
    "    True\n",
    "    >>> isPalindrome2(\"hello\")\n",
    "    False\n",
    "    \"\"\"\n",
    "    punctuation = [' ','.',',','\"',\"'\",'!','?','-','—','+','=','(',')']\n",
    "    for char in punctuation:\n",
    "        words = words.replace(str(char), '')\n",
    "    words = words.lower()\n",
    "    return words == words[::-1]\n",
    "    \n",
    "import doctest\n",
    "doctest.testmod()"
   ]
  },
  {
   "cell_type": "markdown",
   "metadata": {
    "is_question": true,
    "problem": "Exercise 6.6 challenge"
   },
   "source": [
    "### Challenge (optional)\n",
    "\n",
    "Use the word list from [Chapter 9.1](http://www.greenteapress.com/thinkpython/html/thinkpython010.html) Exercise 1 to find all of the palindromes."
   ]
  },
  {
   "cell_type": "code",
   "execution_count": null,
   "metadata": {
    "collapsed": true,
    "solution": "Exercise 6.6 challenge"
   },
   "outputs": [],
   "source": []
  },
  {
   "cell_type": "markdown",
   "metadata": {
    "is_question": true,
    "problem": "Exercise 6.7"
   },
   "source": [
    "### Exercise 7  \n",
    "\n",
    "A number `a` is a power of `b` if it is divisible by `b` and `a/b` is a power of `b`. Write a function called `is_power` that takes parameters `a` and `b` and returns `True` if `a` is a power of `b`. Note: you will have to think about the base case."
   ]
  },
  {
   "cell_type": "code",
   "execution_count": 67,
   "metadata": {
    "collapsed": false,
    "solution": "Exercise 6.7"
   },
   "outputs": [
    {
     "data": {
      "text/plain": [
       "TestResults(failed=0, attempted=9)"
      ]
     },
     "execution_count": 67,
     "metadata": {},
     "output_type": "execute_result"
    }
   ],
   "source": [
    "def isPower(a, b):\n",
    "    \"\"\"\n",
    "    If a is a power of b, returns True.  Else returns false.\n",
    "    \n",
    "    a: an integer\n",
    "    b: another integer\n",
    "    >>> isPower(4, 2)\n",
    "    True\n",
    "    >>> isPower(3, 3)\n",
    "    True\n",
    "    >>> isPower(0, 0)\n",
    "    True\n",
    "    >>> isPower(3, 2)\n",
    "    False\n",
    "    >>> isPower(1, 3)\n",
    "    True\n",
    "    \"\"\"\n",
    "    if type(a) == int and type(b) == int:\n",
    "        if a == b:\n",
    "            return True\n",
    "        elif b == 0 and a != 0:\n",
    "            return False\n",
    "        if a == 1:\n",
    "            return True\n",
    "        elif a%b == 0 and (a/b)%b == 0:\n",
    "            return True\n",
    "        else:\n",
    "            return False\n",
    "    else:\n",
    "        return ValueError\n",
    "\n",
    "    \n",
    "import doctest\n",
    "doctest.testmod()"
   ]
  },
  {
   "cell_type": "markdown",
   "metadata": {
    "is_question": true,
    "problem": "Exercise 6.8"
   },
   "source": [
    "### Challenge (optional) - Exercise 8  \n",
    "\n",
    "The greatest common divisor (GCD) of `a` and `b` is the largest number that divides both of them with no remainder.\n",
    "\n",
    "One way to find the GCD of two numbers is based on the observation that if `r` is the remainder when `a` is divided by `b`, then `gcd(a, b) = gcd(b, r)`. As a base case, we can use `gcd(a, 0) = a`.\n",
    "\n",
    "Write a function called `gcd` that takes parameters `a` and `b` and returns their greatest common divisor."
   ]
  },
  {
   "cell_type": "code",
   "execution_count": 20,
   "metadata": {
    "collapsed": false,
    "problem": "Exercise 6.8"
   },
   "outputs": [
    {
     "data": {
      "text/plain": [
       "TestResults(failed=0, attempted=13)"
      ]
     },
     "execution_count": 20,
     "metadata": {},
     "output_type": "execute_result"
    }
   ],
   "source": [
    "def gcd(a, b):\n",
    "    \"\"\"\n",
    "    Takes two integers and returns their greatest common divisor.\n",
    "    \n",
    "    >>> gcd(2, 0)\n",
    "    2\n",
    "    >>> gcd(24, 36)\n",
    "    12\n",
    "    >>> gcd(3, 3)\n",
    "    3\n",
    "    >>> gcd(5, 9)\n",
    "    1\n",
    "    \"\"\"\n",
    "    if type(a) == int and type(b) == int:\n",
    "        if a == 0 and b == 0:\n",
    "            return ValueError\n",
    "#         if a == 0 or b == 0:\n",
    "#             return a or b\n",
    "        else:\n",
    "            divisors = [x for x in range(1,100) if a%x == 0 and b%x == 0]\n",
    "            return max(divisors)\n",
    "    else:\n",
    "        return False\n",
    "\n",
    "import doctest\n",
    "doctest.testmod()"
   ]
  },
  {
   "cell_type": "markdown",
   "metadata": {},
   "source": [
    "## Reading Journal feedback\n",
    "\n",
    "Have any comments on this Reading Journal? Feel free to leave them below and we'll read them when you submit your journal entry. This could include suggestions to improve the exercises, topics you'd like to see covered in class next time, or other feedback.\n",
    "\n",
    "If you have Python questions or run into problems while completing the reading, you should post them to Piazza instead so you can get a quick response before your journal is submitted."
   ]
  },
  {
   "cell_type": "markdown",
   "metadata": {
    "feedback_response": true
   },
   "source": [
    " "
   ]
  }
 ],
 "metadata": {
  "kernelspec": {
   "display_name": "Python 2",
   "language": "python",
   "name": "python2"
  },
  "language_info": {
   "codemirror_mode": {
    "name": "ipython",
    "version": 2
   },
   "file_extension": ".py",
   "mimetype": "text/x-python",
   "name": "python",
   "nbconvert_exporter": "python",
   "pygments_lexer": "ipython2",
   "version": "2.7.11"
  }
 },
 "nbformat": 4,
 "nbformat_minor": 0
}
