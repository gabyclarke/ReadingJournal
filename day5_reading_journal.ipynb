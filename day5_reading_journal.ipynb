{
 "cells": [
  {
   "cell_type": "markdown",
   "metadata": {},
   "source": [
    "# Day 5 Reading Journal\n",
    "\n",
    "This journal includes several required exercises, but it is meant to encourage active reading more generally.  You should use the journal to take detailed notes, catalog questions, and explore the content from Think Python deeply.\n",
    "\n",
    "Reading: Think Python Chapter 4\n",
    "\n",
    "**Due: Monday, February 8 at 12 noon**\n",
    "\n"
   ]
  },
  {
   "cell_type": "markdown",
   "metadata": {},
   "source": [
    "## [Chapter 4](http://www.greenteapress.com/thinkpython/html/thinkpython005.html)\n",
    "\n",
    "In today's reading, you'll be exploring TurtleWorld!\n",
    "TurtleWorld is part of the [swampy](http://www.greenteapress.com/thinkpython/swampy/) package, written by Allen Downey.\n",
    "As part of the [Get Set](https://sites.google.com/site/sd16spring/home/assignments-and-mini-projects/setup-your-environment) assignment, you installed the swampy package using the pip Python package management tool. If you somehow missed that step or you see errors when you try to import TurtleWorld, you can install swampy by running:\n",
    "\n",
    "```\n",
    "sudo pip install swampy\n",
    "```\n",
    "\n",
    "at the command line.\n",
    "\n",
    "### Turtle wrangling\n",
    "\n",
    "You can always run your code as separate Python scripts, but here are a few tips for mixing TurtleWorld with Jupyter notebook:\n",
    "\n",
    " - TurtleWorld will appear in a new GUI window, rather than inline in the notebook like typical results do\n",
    " - You will not be able to close the TurtleWorld window unless you run `wait_for_user()` as the last line of your code.\n",
    " - Jupyter notebook works like one big Python script, even though it is broken up into sections. This means that you could create a Turtle in one cell, move it in a later cell, and then `wait_for_user()` in yet another. Despite this, it might be easier to treat each cell in this assignment as a separate script, creating a new world at the beginning and destroying it at the end of each."
   ]
  },
  {
   "cell_type": "markdown",
   "metadata": {},
   "source": [
    "### Get started\n",
    "\n",
    "Run the code in the cell below and make sure everything works. You should see brave Alice spring into the world and run forward. You can close the window when you're done by clicking on the 'X'. If this simple test doesn't work, check your swampy install (especially if you get an `ImportError`) and ask for help."
   ]
  },
  {
   "cell_type": "code",
   "execution_count": 1,
   "metadata": {
    "collapsed": true
   },
   "outputs": [],
   "source": [
    "from swampy.TurtleWorld import *\n",
    "\n",
    "# Create the world, and a turtle to put in it\n",
    "world = TurtleWorld()\n",
    "alice = Turtle()\n",
    "\n",
    "# Get moving, turtle!\n",
    "fd(alice, 50)\n",
    "\n",
    "# Wait for the user to close the window\n",
    "wait_for_user()"
   ]
  },
  {
   "cell_type": "markdown",
   "metadata": {
    "is_question": true,
    "problem": "Section 4.3"
   },
   "source": [
    "### Section 4.3 exercises\n",
    "Work through exercises 1-5 in Section 4.3, creating the `square`, `polygon`, `circle`, and `arc` functions. You can reference Allen's solutions, but please try the problems on your own first."
   ]
  },
  {
   "cell_type": "code",
   "execution_count": 20,
   "metadata": {
    "collapsed": false
   },
   "outputs": [],
   "source": [
    "from swampy.TurtleWorld import *\n",
    "import math\n",
    "\n",
    "waynesWorld = TurtleWorld()\n",
    "wayne = Turtle()\n",
    "    \n",
    "def polyLine(t, n, length, angle):\n",
    "    \"\"\"\n",
    "    Moves turtle \"t\" along a path of \"n\" sides of length \"length\" at angles \"angle\"\n",
    "    \"\"\"\n",
    "    for i in range(n):\n",
    "        fd(t, length)\n",
    "        lt(t, angle)\n",
    "    \n",
    "def polygon(t, n, length):\n",
    "    \"\"\"\n",
    "    Moves turtle \"t\" along a regular polygonal path of \"n\" sides of length \"length\"\n",
    "    \"\"\"\n",
    "    angle = 360.0 / n\n",
    "    polyLine(t, n, length, angle)\n",
    "\n",
    "def square(t, length):\n",
    "    \"\"\"\n",
    "    Moves turtle \"t\" along a square path of sidelength \"length\"\n",
    "    \"\"\"\n",
    "    polygon(t, 4, length)\n",
    "    \n",
    "def arc(t, r, angle):\n",
    "    \"\"\"\n",
    "    Moves turtle \"t\" along an arced path of radius \"r\" sweeping angle \"angle\"\n",
    "    \"\"\"\n",
    "    t.delay = 0.01\n",
    "    arcLength = 2 * math.pi * r * angle / 360.0\n",
    "    n = int(arcLength / 3) + 1\n",
    "    deltaLength = arcLength / n\n",
    "    deltaAngle = float(angle) / n\n",
    "    polyLine(t, n, deltaLength, deltaAngle)\n",
    "    \n",
    "def circle(t, r):\n",
    "    \"\"\"\n",
    "    Moves turtle \"t\" along a circular path of radius \"r\"\n",
    "    \"\"\"\n",
    "    arc(t, r, 360)\n",
    "\n",
    "# ALL THE WAYNES' FROM WAYNE'S WORLD   \n",
    "\n",
    "def waynesSquare(length):\n",
    "    square(wayne, length)\n",
    "\n",
    "def waynesPolygon(n, length):\n",
    "    polygon(wayne, n, length)\n",
    "\n",
    "def waynesCircle(r):\n",
    "    circle(wayne, r)\n",
    "\n",
    "def waynesArc(r, angle):\n",
    "    arc(wayne, r, angle)\n",
    "    \n",
    "waynesArc(50, 90)\n",
    "wait_for_user()"
   ]
  },
  {
   "cell_type": "code",
   "execution_count": 17,
   "metadata": {
    "collapsed": false,
    "solution": "Section 4.3"
   },
   "outputs": [],
   "source": [
    "# ### PRE-REFACTORED CODE\n",
    "\n",
    "# from swampy.TurtleWorld import *\n",
    "# import math\n",
    "\n",
    "# waynesWorld = TurtleWorld()\n",
    "# wayne = Turtle()\n",
    "\n",
    "# def square(t, length):\n",
    "#     for i in range(4):\n",
    "#         fd(t, length)\n",
    "#         lt(t)\n",
    "#     wait_for_user()\n",
    "\n",
    "# def waynesSquare():\n",
    "#     square(wayne, 100)\n",
    "    \n",
    "# def polygon(t, n, length):\n",
    "#     for i in range(n):\n",
    "#         fd(t, length)\n",
    "#         lt(t, 360.0/n) # USE FLOAT DIVISION! INT DIV MESSES SH!T UP\n",
    "#     wait_for_user()\n",
    "\n",
    "# def waynesPolygon():\n",
    "#     polygon(wayne, 6, 100)\n",
    "    \n",
    "# def circle(t, r):\n",
    "#     t.delay = .01\n",
    "#     c = 2 * math.pi * r\n",
    "# #     n = 50\n",
    "#     n = int(c / 3) + 1\n",
    "#     length = c / n\n",
    "#     polygon(t, n, length)\n",
    "#     wait_for_user()\n",
    "\n",
    "# def waynesCircle():\n",
    "#     circle(wayne, 75)\n",
    "    \n",
    "# def arc(t, r, angle):\n",
    "#     t.delay = .01\n",
    "#     c = 2 * math.pi * r\n",
    "#     arcLength = c * angle / 360.0\n",
    "#     n = int(c / 3) + 1\n",
    "#     polyLength = arcLength / n\n",
    "#     polyAngle = float(angle) / n\n",
    "#     for i in range(n):\n",
    "#         fd(t, polyLength)\n",
    "#         lt(t, polyAngle)\n",
    "#     wait_for_user()\n",
    "    \n",
    "# def waynesArc():\n",
    "#     arc(wayne, 75, 90)\n",
    "    \n",
    "# waynesArc()"
   ]
  },
  {
   "cell_type": "markdown",
   "metadata": {
    "is_question": true,
    "problem": "More fun"
   },
   "source": [
    "### Exercise: More fun with Turtles!\n",
    "Complete at least one of Exercise 2, 3, 4, or 5. If you come up with some cool drawings you'd like to share with the rest of the class, let us know!"
   ]
  },
  {
   "cell_type": "code",
   "execution_count": 4,
   "metadata": {
    "collapsed": false,
    "solution": "More fun"
   },
   "outputs": [],
   "source": [
    "from swampy.TurtleWorld import *\n",
    "import math\n",
    "\n",
    "florasWorld = TurtleWorld()\n",
    "flora = Turtle()\n",
    "    \n",
    "def polyLine(t, n, length, angle):\n",
    "    \"\"\"\n",
    "    Moves turtle \"t\" along a path of \"n\" sides of length \"length\" at angles \"angle\"\n",
    "    \"\"\"\n",
    "    for i in range(n):\n",
    "        fd(t, length)\n",
    "        lt(t, angle)\n",
    "\n",
    "def arc(t, r, angle):\n",
    "    \"\"\"\n",
    "    Moves turtle \"t\" along an arced path of radius \"r\" sweeping angle \"angle\"\n",
    "    \"\"\"\n",
    "    t.delay = 0.01\n",
    "    arcLength = 2 * math.pi * r * angle / 360.0\n",
    "    n = int(arcLength / 3) + 1\n",
    "    deltaLength = arcLength / n\n",
    "    deltaAngle = float(angle) / n\n",
    "    polyLine(t, n, deltaLength, deltaAngle)\n",
    "\n",
    "def petal(t, r, angle):\n",
    "    \"\"\"\n",
    "    Moves turtle \"t\" along a petal-shaped path comprised of two arcs of radius \"r\" \n",
    "    sweeping angle \"angle\"\n",
    "    \"\"\"\n",
    "    for i in range(2):\n",
    "        arc(t, r, angle)\n",
    "        lt(t, 180 - angle)\n",
    "    \n",
    "def flower(t, r, n):\n",
    "    \"\"\"\n",
    "    Moves turtle \"t\" along a flower-shaped path of radius \"r\" and \"n\" petals\n",
    "    \"\"\"\n",
    "    angle = 360.0 / n\n",
    "    for i in range(n):\n",
    "        petal(t, r, angle)\n",
    "        lt(t, angle)\n",
    "    \n",
    "def florasFlower(r, n):\n",
    "    flower(flora, r, n)\n",
    "    \n",
    "florasFlower(75, 9)\n",
    "wait_for_user()"
   ]
  },
  {
   "cell_type": "markdown",
   "metadata": {},
   "source": [
    "## Reading Journal feedback\n",
    "\n",
    "Have any comments on this Reading Journal? Feel free to leave them below and we'll read them when you submit your journal entry. This could include suggestions to improve the exercises, topics you'd like to see covered in class next time, or other feedback.\n",
    "\n",
    "If you have Python questions or run into problems while completing the reading, you should post them to Piazza instead so you can get a quick response before your journal is submitted."
   ]
  },
  {
   "cell_type": "markdown",
   "metadata": {},
   "source": [
    " "
   ]
  }
 ],
 "metadata": {
  "kernelspec": {
   "display_name": "Python 2",
   "language": "python",
   "name": "python2"
  },
  "language_info": {
   "codemirror_mode": {
    "name": "ipython",
    "version": 2
   },
   "file_extension": ".py",
   "mimetype": "text/x-python",
   "name": "python",
   "nbconvert_exporter": "python",
   "pygments_lexer": "ipython2",
   "version": "2.7.10"
  }
 },
 "nbformat": 4,
 "nbformat_minor": 0
}
