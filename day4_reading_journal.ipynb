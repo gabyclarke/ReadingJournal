{
 "cells": [
  {
   "cell_type": "markdown",
   "metadata": {},
   "source": [
    "# Day 4 Reading Journal\n",
    "\n",
    "This journal includes several required exercises, but it is meant to encourage active reading more generally.  You should use the journal to take detailed notes, catalog questions, and explore the content from Think Python deeply.\n",
    "\n",
    "Reading: Think Python Chapter 10\n",
    "\n",
    "**Due: Thursday, February 4 at 12 noon**\n",
    "\n"
   ]
  },
  {
   "cell_type": "markdown",
   "metadata": {},
   "source": [
    "## [Chapter 10](http://www.greenteapress.com/thinkpython/html/thinkpython011.html)\n",
    "\n",
    "You may want to review [state diagrams in Chapter 2](http://www.greenteapress.com/thinkpython/html/thinkpython003.html#toc13). [Python Tutor](http://pythontutor.com/) is also helpful for visualizing the state of your program.\n",
    "\n"
   ]
  },
  {
   "cell_type": "markdown",
   "metadata": {},
   "source": [
    "### Exercise 4  \n",
    "Write a function called `middle` that takes a list and returns a new list that contains all but the first and last elements. So `middle([1,2,3,4])` should return `[2,3]`."
   ]
  },
  {
   "cell_type": "code",
   "execution_count": 5,
   "metadata": {
    "collapsed": false
   },
   "outputs": [],
   "source": [
    "def middle(x):\n",
    "    \"\"\"\n",
    "    >>> middle([1,2,3,4])\n",
    "    [2, 3]\n",
    "    >>> middle(['a','b','c'])\n",
    "    ['b']\n",
    "    \"\"\"\n",
    "    return x[1:len(x)-1]\n",
    "\n",
    "import doctest\n",
    "doctest.run_docstring_examples(middle, globals())"
   ]
  },
  {
   "cell_type": "code",
   "execution_count": 9,
   "metadata": {
    "collapsed": false
   },
   "outputs": [
    {
     "name": "stdout",
     "output_type": "stream",
     "text": [
      "[8, 9]\n",
      "[7, 8, 9, 10]\n"
     ]
    }
   ],
   "source": [
    "def middle2(x):\n",
    "    \"\"\"\n",
    "    >>> middle2([1,2,3,4])\n",
    "    [2, 3]\n",
    "    >>> middle2(['a','b','c'])\n",
    "    ['b']\n",
    "    \"\"\"\n",
    "    return x[1:-1]\n",
    "\n",
    "import doctest\n",
    "doctest.run_docstring_examples(middle2, globals())"
   ]
  },
  {
   "cell_type": "markdown",
   "metadata": {},
   "source": [
    "### Exercise 5  \n",
    "Write a function called `chop` that takes a list, modifies it by removing the first and last elements, and returns `None`.\n",
    "\n",
    "What is the difference between `middle` and `chop`? Sketch out the program state or take a look at each in Python Tutor."
   ]
  },
  {
   "cell_type": "code",
   "execution_count": 12,
   "metadata": {
    "collapsed": false
   },
   "outputs": [
    {
     "data": {
      "text/plain": [
       "TestResults(failed=0, attempted=5)"
      ]
     },
     "execution_count": 12,
     "metadata": {},
     "output_type": "execute_result"
    }
   ],
   "source": [
    "def chop(x):\n",
    "    \"\"\"\n",
    "    Removes the first and last elements of a list.\n",
    "    \n",
    "    x: a list\n",
    "    returns: None\n",
    "    \n",
    "    >>> L = ['x', 'y', 'z']\n",
    "    >>> chop(L)\n",
    "    >>> print L\n",
    "    ['y']\n",
    "    \"\"\"\n",
    "    del x[0]\n",
    "    del x[len(x)-1]\n",
    "    return None\n",
    "\n",
    "import doctest\n",
    "doctest.testmod()"
   ]
  },
  {
   "cell_type": "markdown",
   "metadata": {},
   "source": [
    "### Exercise 7  \n",
    "Two words are anagrams if you can rearrange the letters from one to spell the other. Write a function called `is_anagram` that takes two strings and returns `True` if they are anagrams."
   ]
  },
  {
   "cell_type": "code",
   "execution_count": 19,
   "metadata": {
    "collapsed": false
   },
   "outputs": [
    {
     "data": {
      "text/plain": [
       "TestResults(failed=0, attempted=8)"
      ]
     },
     "execution_count": 19,
     "metadata": {},
     "output_type": "execute_result"
    }
   ],
   "source": [
    "def isAnagram(s1, s2):\n",
    "    \"\"\"\n",
    "    Checks to see if two strings are anagrams.\n",
    "    \n",
    "    s1: a string\n",
    "    s2: another string\n",
    "    returns: True if s1 and s2 are anagrams, else returns \n",
    "    False\n",
    "    \n",
    "    >>> isAnagram('Tom Marvolo Riddle', 'I am Lord Voldemort')\n",
    "    True\n",
    "    >>> isAnagram('eleven plus two', 'twelve plus one')\n",
    "    True\n",
    "    >>> isAnagram('apples', 'bananas')\n",
    "    False\n",
    "    \"\"\"\n",
    "    return sorted((''.join(s1.split())).lower()) == sorted((''.join(s2.split())).lower())  \n",
    "# SUPER UGLY, but removes spaces, transforms to lowercase, sorts alphabetically, \n",
    "# and tests for equality all in one line\n",
    "    \n",
    "import doctest\n",
    "doctest.testmod()"
   ]
  },
  {
   "cell_type": "markdown",
   "metadata": {},
   "source": [
    "### Exercise 8  \n",
    "The (so-called) Birthday Paradox:\n",
    "1. Write a function called `has_duplicates` that takes a list and returns `True` if there is any element that appears more than once. It should not modify the original list.\n",
    "2. If there are 23 students in your class, what are the chances that two of you have the same birthday? You can estimate this probability by generating random samples of 23 birthdays and checking for matches. Hint: you can generate random birthdays with the randint function in the [random module](https://docs.python.org/2/library/random.html).\n",
    "\n",
    "You can read about this problem at http://en.wikipedia.org/wiki/Birthday_paradox, and you can download Allen's solution from http://thinkpython.com/code/birthday.py."
   ]
  },
  {
   "cell_type": "code",
   "execution_count": 6,
   "metadata": {
    "collapsed": false
   },
   "outputs": [
    {
     "data": {
      "text/plain": [
       "'Experimentally determined probability of duplicate birthdays with 23 people in the room: 59/1000'"
      ]
     },
     "execution_count": 6,
     "metadata": {},
     "output_type": "execute_result"
    }
   ],
   "source": [
    "import random\n",
    "\n",
    "def hasDuplicates(x):\n",
    "    \"\"\"\n",
    "    Checks to see if a list contains duplicate elements.\n",
    "    \n",
    "    x: a list\n",
    "    returns: True if any element appears more than once, else returns False\n",
    "    \n",
    "    >>> hasDuplicates([0,1,1])\n",
    "    True\n",
    "    >>> hasDuplicates(['cat','hat','mat','cat'])\n",
    "    True\n",
    "    >>> hasDuplicates([0,1,2])\n",
    "    False\n",
    "    \"\"\"\n",
    "    ordered = sorted(x)\n",
    "    \n",
    "    for i in range(len(ordered)-1):\n",
    "        if ordered[i] == ordered[i+1]: # if any element == the following element\n",
    "            return True\n",
    "        elif ordered[len(ordered)-2] != ordered[len(ordered)-1]: # elif the second-to-last element != the last element\n",
    "            return False\n",
    "    \n",
    "\n",
    "def makeRandomBirthdays(n):\n",
    "    \"\"\"\n",
    "    Generates a list of n random birthdays.\n",
    "    \n",
    "    n: number of birthdays to generate\n",
    "    returns: a list of birthdays\n",
    "    \"\"\"\n",
    "    thirtyDays = ['4','6','9','11']\n",
    "    february = ['2']\n",
    "    \n",
    "    birthdays = []\n",
    "    for i in range(n):\n",
    "        month = str(random.randrange(1, 13, 1)) \n",
    "        if month in thirtyDays:\n",
    "            birthdays.append(month + '/' + str(random.randrange(1, 31, 1)))\n",
    "        elif month == february:\n",
    "            leapYear = random.randrange(1, 5, 1)\n",
    "            if leapYear == 1: # once every four years\n",
    "                birthdays.append(month + '/' + str(random.randrange(1, 30, 1)))\n",
    "            else:\n",
    "                birthdays.append(month + '/' + str(random.randrange(1, 29, 1)))\n",
    "        else:\n",
    "            birthdays.append(month + '/' + str(random.randrange(1, 32, 1)))                     \n",
    "    return birthdays\n",
    "    \n",
    "    \n",
    "def birthdayParadox(n, sample):\n",
    "    \"\"\"\n",
    "    Determines the probability of duplicate birthdays given n birthdays by testing a sample of random sets\n",
    "    of n birthdays\n",
    "    \n",
    "    n: number of birthdays (people in the room)\n",
    "    sample: number of rooms containing n people tested to find the probabil\n",
    "    \n",
    "    \"\"\"\n",
    "    bools = []\n",
    "    for i in range(sample):\n",
    "        bools.append(hasDuplicates(makeRandomBirthdays(n)))\n",
    "    return 'Experimentally determined probability of duplicate birthdays with ' + str(n) + ' people in the room: ' + str(bools.count(True)) + '/' + str(sample)\n",
    "\n",
    "\n",
    "birthdayParadox(23,1000)\n",
    "# my numbers are WAY off..."
   ]
  },
  {
   "cell_type": "code",
   "execution_count": 3,
   "metadata": {
    "collapsed": false
   },
   "outputs": [
    {
     "data": {
      "text/plain": [
       "'64/1000'"
      ]
     },
     "execution_count": 3,
     "metadata": {},
     "output_type": "execute_result"
    }
   ],
   "source": [
    "import random\n",
    "\n",
    "def hasDuplicates2(x):\n",
    "    \"\"\"\n",
    "    Checks to see if a list contains duplicate elements.\n",
    "    \n",
    "    x: a list\n",
    "    returns: True if any element appears more than once, else returns False\n",
    "    \n",
    "    >>> hasDuplicates2([0,1,1])\n",
    "    True\n",
    "    >>> hasDuplicates2(['cat','hat','mat','cat'])\n",
    "    True\n",
    "    >>> hasDuplicates2([0,1,2])\n",
    "    False\n",
    "    \"\"\"\n",
    "    ordered = sorted(x)\n",
    "    \n",
    "    for i in range(len(ordered)-1):\n",
    "        if ordered[i] == ordered[i+1]: # if any element == the following element\n",
    "            return True\n",
    "        elif ordered[len(ordered)-2] != ordered[len(ordered)-1]: # elif the second-to-last element != the last element\n",
    "            return False\n",
    "    \n",
    "\n",
    "def makeRandomBirthdays2(n):\n",
    "    \"\"\"\n",
    "    Generates a list of n random birthdays.\n",
    "    \n",
    "    n: number of birthdays to generate\n",
    "    returns: a list of birthdays\n",
    "    \"\"\"\n",
    "    thirtyDays = ['4','6','9','11']\n",
    "    february = ['2']\n",
    "    \n",
    "    birthdays = []\n",
    "    for i in range(n):\n",
    "        month = str(random.randrange(1, 13, 1)) \n",
    "        if month in thirtyDays:\n",
    "            birthdays.append(month + '/' + str(random.randrange(1, 31, 1)))\n",
    "        elif month == february:\n",
    "            leapYear = random.randrange(1, 5, 1)\n",
    "            if leapYear == 1: # once every four years\n",
    "                birthdays.append(month + '/' + str(random.randrange(1, 30, 1)))\n",
    "            else:\n",
    "                birthdays.append(month + '/' + str(random.randrange(1, 29, 1)))\n",
    "        else:\n",
    "            birthdays.append(month + '/' + str(random.randrange(1, 32, 1)))                     \n",
    "    return birthdays\n",
    "    \n",
    "    \n",
    "def birthdayParadox2(n, sample):\n",
    "    \"\"\"\n",
    "    Determines the probability of duplicate birthdays given n birthdays by testing a sample of random sets\n",
    "    of n birthdays\n",
    "    \n",
    "    n: number of birthdays (people in the room)\n",
    "    sample: number of rooms containing n people tested to find the probabil\n",
    "    \n",
    "    \"\"\"\n",
    "    count = 0\n",
    "    for i in range(sample):\n",
    "        if hasDuplicates2(makeRandomBirthdays2(n)):\n",
    "            count += 1\n",
    "    return str(count) + '/' + str(sample)\n",
    "#         bools.append(hasDuplicates2(makeRandomBirthdays2(n)))\n",
    "#     return 'Experimentally determined probability of duplicate birthdays with ' + str(n) + ' people in the room: ' + str(bools.count(True)) + '/' + str(sample)\n",
    "\n",
    "\n",
    "birthdayParadox2(23,1000)\n",
    "# my numbers are WAY off..."
   ]
  },
  {
   "cell_type": "code",
   "execution_count": 7,
   "metadata": {
    "collapsed": false
   },
   "outputs": [
    {
     "name": "stdout",
     "output_type": "stream",
     "text": [
      "After 1000 simulations\n",
      "with 23 students\n",
      "there were 511 simulations with at least one match\n"
     ]
    }
   ],
   "source": [
    "import random\n",
    "\n",
    "def has_duplicates(t):\n",
    "    \"\"\"Returns True if any element appears more than once in (t),\n",
    "    False otherwise.\"\"\"\n",
    "    s = t[:]\n",
    "    s.sort()\n",
    "    for i in range(len(s)-1):\n",
    "        if s[i] == s[i+1]:\n",
    "            return True\n",
    "    return False\n",
    "\n",
    "\n",
    "def random_bdays(n):\n",
    "    \"\"\"Returns a list of integers between 1 and 365, with length (n).\"\"\"\n",
    "    t = []\n",
    "    for i in range(n):\n",
    "        bday = random.randint(1, 365)\n",
    "        t.append(bday)\n",
    "    return t\n",
    "\n",
    "\n",
    "def count_matches(students, samples):\n",
    "    \"\"\"Generates (samples) samples of (students) students, and counts\n",
    "    how many of them have at least one pair of students with the same bday.\"\"\"\n",
    "    count = 0\n",
    "    for i in range(samples):\n",
    "        t = random_bdays(students)\n",
    "        if has_duplicates(t):\n",
    "            count += 1\n",
    "    return count\n",
    "\n",
    "\"\"\"run the birthday simulation 1000 times and print the number of matches\"\"\"\n",
    "num_students = 23\n",
    "num_simulations = 1000\n",
    "count = count_matches(num_students, num_simulations)\n",
    "\n",
    "print 'After %d simulations' % num_simulations\n",
    "print 'with %d students' % num_students\n",
    "print 'there were %d simulations with at least one match' % count"
   ]
  },
  {
   "cell_type": "markdown",
   "metadata": {},
   "source": [
    "### Challenge: Exercise 11 (optional)\n",
    "\n",
    "You should read [Chapter 9.1](http://www.greenteapress.com/thinkpython/html/thinkpython010.html) and do Exercise 1 first.\n",
    "\n",
    "To check whether a word is in the word list, you could use the `in` operator, but it would be relatively slow because it searches through the words in order (try it).\n",
    "\n",
    "Because the words are in alphabetical order, we can speed things up with a bisection search (also known as binary search), which is similar to what you do when you look a word up in the dictionary. You start in the middle and check to see whether the word you are looking for comes before the word in the middle of the list. If so, then you search the first half of the list the same way. Otherwise you search the second half.\n",
    "\n",
    "Either way, you cut the remaining search space in half. If the word list has 113,809 words, it will take about 17 steps to find the word or conclude that it’s not there.\n",
    "\n",
    "Write a function called `bisect` that takes a sorted list and a target value and returns the index of the value in the list, if it’s there, or `None` if it’s not.\n",
    "\n",
    "Or you could read the documentation of the `bisect` module and use that! Solution: http://thinkpython.com/code/inlist.py."
   ]
  },
  {
   "cell_type": "code",
   "execution_count": null,
   "metadata": {
    "collapsed": true
   },
   "outputs": [],
   "source": []
  },
  {
   "cell_type": "markdown",
   "metadata": {},
   "source": [
    "## Reading Journal feedback\n",
    "\n",
    "Have any comments on this Reading Journal? Feel free to leave them below and we'll read them when you submit your journal entry. This could include suggestions to improve the exercises, topics you'd like to see covered in class next time, or other feedback.\n",
    "\n",
    "If you have Python questions or run into problems while completing the reading, you should post them to Piazza instead so you can get a quick response before your journal is submitted."
   ]
  },
  {
   "cell_type": "markdown",
   "metadata": {},
   "source": [
    " "
   ]
  }
 ],
 "metadata": {
  "kernelspec": {
   "display_name": "Python 2",
   "language": "python",
   "name": "python2"
  },
  "language_info": {
   "codemirror_mode": {
    "name": "ipython",
    "version": 2
   },
   "file_extension": ".py",
   "mimetype": "text/x-python",
   "name": "python",
   "nbconvert_exporter": "python",
   "pygments_lexer": "ipython2",
   "version": "2.7.10"
  }
 },
 "nbformat": 4,
 "nbformat_minor": 0
}
